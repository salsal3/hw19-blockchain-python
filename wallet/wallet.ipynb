{
 "cells": [
  {
   "cell_type": "markdown",
   "metadata": {},
   "source": [
    "# Homework 19: Blockchain with Python"
   ]
  },
  {
   "cell_type": "markdown",
   "metadata": {},
   "source": [
    "## Imports"
   ]
  },
  {
   "cell_type": "code",
   "execution_count": 1,
   "metadata": {},
   "outputs": [],
   "source": [
    "# Import dependencies\n",
    "import subprocess\n",
    "import json\n",
    "import os\n",
    "import pprint\n",
    "from dotenv import load_dotenv\n",
    "\n",
    "# Load and set environment variables\n",
    "load_dotenv('token.env')\n",
    "mnemonic=os.getenv(\"mnemonic\")\n",
    "\n",
    "# Import constants.py and necessary functions from bit and web3\n",
    "from constants import *\n",
    "from bit import wif_to_key\n",
    "from bit import PrivateKeyTestnet\n",
    "\n",
    "from web3 import Web3\n",
    "from web3.middleware import geth_poa_middleware\n",
    "from eth_account import Account"
   ]
  },
  {
   "cell_type": "markdown",
   "metadata": {},
   "source": [
    "### Check constants and mnemonic"
   ]
  },
  {
   "cell_type": "code",
   "execution_count": 2,
   "metadata": {},
   "outputs": [
    {
     "name": "stdout",
     "output_type": "stream",
     "text": [
      "eth btc-test btc\n",
      "alter puppy choice hello almost trophy report innocent letter canyon actress now\n"
     ]
    }
   ],
   "source": [
    "# Check imported constants and mnemonic\n",
    "print(ETH, BTCTEST, BTC)\n",
    "print(mnemonic)"
   ]
  },
  {
   "cell_type": "markdown",
   "metadata": {},
   "source": [
    "## Derive Wallet Keys"
   ]
  },
  {
   "cell_type": "markdown",
   "metadata": {},
   "source": [
    "### Tests"
   ]
  },
  {
   "cell_type": "code",
   "execution_count": 3,
   "metadata": {},
   "outputs": [
    {
     "data": {
      "text/plain": [
       "[{'path': 'm/0', 'address': 't1V1Qp41kbHn159hvVXZL5M1MmVDRe6EdpA'},\n",
       " {'path': 'm/1', 'address': 't1Tw6iqFY1g9dKeAqPDAncaUjha8cn9SZqX'},\n",
       " {'path': 'm/2', 'address': 't1VGTPzBSSYd27GF8p9rGKGdFuWekKRhug4'}]"
      ]
     },
     "execution_count": 3,
     "metadata": {},
     "output_type": "execute_result"
    }
   ],
   "source": [
    "# Test `./derive` script from README\n",
    "command = 'php ./derive --key=xprv9zbB6Xchu2zRkf6jSEnH9vuy7tpBuq2njDRr9efSGBXSYr1QtN8QHRur28QLQvKRqFThCxopdS1UD61a5q6jGyuJPGLDV9XfYHQto72DAE8 --cols=path,address --coin=ZEC --numderive=3 -g --format=json'\n",
    "\n",
    "p = subprocess.Popen(command, stdout=subprocess.PIPE, shell=True)\n",
    "output, err = p.communicate()\n",
    "p_status = p.wait()\n",
    "\n",
    "keys = json.loads(output)\n",
    "keys"
   ]
  },
  {
   "cell_type": "markdown",
   "metadata": {},
   "source": [
    "#### BTC-test derive_wallet function"
   ]
  },
  {
   "cell_type": "code",
   "execution_count": 4,
   "metadata": {},
   "outputs": [],
   "source": [
    "# test = \"BTC-test\""
   ]
  },
  {
   "cell_type": "code",
   "execution_count": 5,
   "metadata": {},
   "outputs": [],
   "source": [
    "# # Create a function called `derive_wallets`\n",
    "# # Derive 'btc-test' wallet keys\n",
    "# # '--coin' flag does not accept the BTCTEST constant when passed in the function by itself\n",
    "# def derive_btc(command, stdout=subprocess.PIPE, shell=True):\n",
    "#     command = 'php ./derive -g --mnemonic=mnemonic --coin=\"btc-test\" --numderive=3 --cols=address,index,path,privkey,pubkey,pubkeyhash,xprv,xpub --format=json'\n",
    "#     p = subprocess.Popen(command, stdout=subprocess.PIPE, shell=True)\n",
    "#     output, err = p.communicate()\n",
    "#     p_status = p.wait()\n",
    "#     return json.loads(output)\n",
    "\n",
    "# derive_btc(command)"
   ]
  },
  {
   "cell_type": "markdown",
   "metadata": {},
   "source": [
    "#### ETH derive_wallet function"
   ]
  },
  {
   "cell_type": "code",
   "execution_count": 6,
   "metadata": {},
   "outputs": [],
   "source": [
    "# # Derive 'eth' wallet keys\n",
    "# def derive_eth(command, stdout=subprocess.PIPE, shell=True):\n",
    "#     command = 'php ./derive -g --mnemonic=mnemonic --coin=ETH --numderive=3 --cols=address,index,path,privkey,pubkey,pubkeyhash,xprv,xpub --format=json'\n",
    "#     p = subprocess.Popen(command, stdout=subprocess.PIPE, shell=True)\n",
    "#     output, err = p.communicate()\n",
    "#     p_status = p.wait()\n",
    "#     return json.loads(output)\n",
    "\n",
    "# derive_eth(command)"
   ]
  },
  {
   "cell_type": "markdown",
   "metadata": {},
   "source": [
    "### `derive_wallets` function"
   ]
  },
  {
   "cell_type": "code",
   "execution_count": 9,
   "metadata": {},
   "outputs": [],
   "source": [
    "# Derive both sets of wallet keys in one function\n",
    "def derive_wallets(coin, stdout=subprocess.PIPE, shell=True):\n",
    "    command = f'php ./derive -g --mnemonic=mnemonic --coin={coin} --numderive=3 --cols=address,index,path,privkey,pubkey,pubkeyhash,xprv,xpub --format=json'\n",
    "    p = subprocess.Popen(command, stdout=subprocess.PIPE, shell=True)\n",
    "    output, err = p.communicate()\n",
    "    p_status = p.wait()\n",
    "    return json.loads(output)"
   ]
  },
  {
   "cell_type": "markdown",
   "metadata": {},
   "source": [
    "### `coins` dict"
   ]
  },
  {
   "cell_type": "code",
   "execution_count": 10,
   "metadata": {},
   "outputs": [
    {
     "data": {
      "text/plain": [
       "{'eth': [{'address': '0x3De0A2fD4A90f9A160ebb2B8711192D1F0eB339D',\n",
       "   'index': 0,\n",
       "   'path': \"m/44'/60'/0'/0/0\",\n",
       "   'privkey': '0x82d63adc8be924a92ef77c6e3286c4e80eaebad63ba2b91c27801a62ba2f9410',\n",
       "   'pubkey': '02c93d99b9686cabed081f1eb262b81a435ae2816ba940e0fea550a36603d8077b',\n",
       "   'pubkeyhash': 'a90e4da9a141168d3e0ac3821015190a79df729c',\n",
       "   'xprv': 'xprvA3W3uzhjas8mpZrqS7oW9ar2SWxLGhwcPFT7S2j7VM8e9PbaYcfSJo4aDdsjd7yi9iPcKkvxg7TzmeNJniz84Y4rYgTaarwiMk66gZNwj3P',\n",
       "   'xpub': 'xpub6GVQKWEdREh533wJY9LWWinkzYnpgAfTkUNiER8j3gfd2Bvj69ygrbP44uSWSEu9BwzQ2mboHQp17puXxT3y9xnXCt256vtjkzV2caX1xeT'},\n",
       "  {'address': '0xc5557310a53b90f18E926431B1896c29Df0dcc1a',\n",
       "   'index': 1,\n",
       "   'path': \"m/44'/60'/0'/0/1\",\n",
       "   'privkey': '0xf0c147a367c5732f750e0dc072540f71ec3e3a87fafee9e7516982861e9e259e',\n",
       "   'pubkey': '0299b67384c634d60ac57d9efc57a93b3a2d87b9eb63e3025652de882c269f2480',\n",
       "   'pubkeyhash': '8703eefc2cdcf91b844d7ec8090d2e89d092de58',\n",
       "   'xprv': 'xprvA3W3uzhjas8msDSBJH94x7mqj53hfhCweGzWNRqsHamAi3MrZh4cDT4VywH5UH7UboqUbVazKeEn9gLy7TgeMbtWSuyYk852kBG75GZmB4r',\n",
       "   'xpub': 'xpub6GVQKWEdREh55hWeQJg5KFiaH6tC59vo1Vv7ApFUqvJ9aqh17ENrmFNyqBeWXxBLL8hxPeeUw4A8HfovbNetZcGkNj6p1VoJiDt4UJ3L9RU'},\n",
       "  {'address': '0x926841419b49910D80fCEa75d587BE3aefFf560e',\n",
       "   'index': 2,\n",
       "   'path': \"m/44'/60'/0'/0/2\",\n",
       "   'privkey': '0x356c8dd425cf9714114bf73751c13d1ad34f4012e2ac37e564b0aaee238a0d2a',\n",
       "   'pubkey': '02fb003f8b9fd2e765b5c64b7f47832bc46ff818807e7903262c03a29d2b983f6a',\n",
       "   'pubkeyhash': '53c13c213c11034e676536944ec4f2cb5fb0b3c0',\n",
       "   'xprv': 'xprvA3W3uzhjas8mvbJ4eX1qKPXK7osvsQXSezDFvPW3dEpbJZ35xaJXxBdpPcrXDrqror7a2McmYr5HbL5Xiag834qfBkvhY5YvLKe3MPxFbch',\n",
       "   'xpub': 'xpub6GVQKWEdREh595NXkYYqgXU3fqiRGsFJ2D8rimufBaMaBMNEW7cnVyxJEuPJW5HNqmbaVUfxVVhvPxd4SmjitFxyEY2YJHeF2GXfz5Q8yRb'}],\n",
       " 'btc-test': [{'address': 'mtgb9hthmFpY1zidrYmZ24eTF87aBA147h',\n",
       "   'index': 0,\n",
       "   'path': \"m/44'/1'/0'/0/0\",\n",
       "   'privkey': 'cVAgDoahzo5Ucdv8ioxxubvmE6LfU3ZQgJ21UvY4eC1xi6WkvnXe',\n",
       "   'pubkey': '0339b281b12687c70a024ef409229b55d404533b4e9a475dc9d3883c0172913fb6',\n",
       "   'pubkeyhash': '906c250da82c2bd3edf9bcbbbb29f2188065f9d2',\n",
       "   'xprv': 'tprv8kmimjp9GYq9EvcrxozEhxzk9jGwaC73BSiy3ATqwwikM4YgH7685zQLzX7xzXAmhXxf5LZbpbqtSGX3fcNFbfVJdxuEYPrA5tDRRQgwPRm',\n",
       "   'xpub': 'tpubDHTkv9rPQvWp8PeerTeq7NeriknsjXHwkkKkKgW9NDX9BYoSuVuiGV2DAejLNv85zVm31akUTVk6Z8MyhECbWDzQ3Qir4GoRCXfBgKk8GxA'},\n",
       "  {'address': 'mxwSU31v1NtbUi6Pc5bN9BgmmAGw13JdvX',\n",
       "   'index': 1,\n",
       "   'path': \"m/44'/1'/0'/0/1\",\n",
       "   'privkey': 'cRG5vrAkkq3ZkTmT2mmqCgbxd8niBdXx3ocDMd1771oSzJDvqXiC',\n",
       "   'pubkey': '02f4468eae06b195a4f83cc63d680d015d512af60288977e0283fd4299bfcde24b',\n",
       "   'pubkeyhash': 'bf1ba366dd65a4824c22f497bbff1fae89007841',\n",
       "   'xprv': 'tprv8kmimjp9GYq9FvSyaAKU2MY38GBpiMHEsjgMtnLaMhyZQPzAiEM6ZTC8z9vdTsJVRQDcoCvLeWEHiPWWLpiGMjoYcffLhXJXNbJawYjKTof',\n",
       "   'xpub': 'tpubDHTkv9rPQvWp9PUmToz4RmC9hHhksgU9T3H9BJNsmymxEtEwLdAgjwp1AHtm7kbkbHvsC3zA3cjHi6DAFtGCvFMgY961mo7mg5ABBu21126'},\n",
       "  {'address': 'n2QTqdWK96XyJ7o8LXqoCjNbmtrFNFbNb6',\n",
       "   'index': 2,\n",
       "   'path': \"m/44'/1'/0'/0/2\",\n",
       "   'privkey': 'cUMUWn4yukMK41LpebaCmnbH26XCQn9EDoSK753FxSNxQC77i5TU',\n",
       "   'pubkey': '03c486d31c700f8342f6dac13fffaab4d44c492637042659ae2922846c89077101',\n",
       "   'pubkeyhash': 'e5206464e15c29f28f54678782a909be5954f6cc',\n",
       "   'xprv': 'tprv8kmimjp9GYq9JExZDMjKjYhzHGQwQHVmMh2cRP5BLMAgCbw7fNgDssZJCujBDau2t2PEzddu8QApnrgnhzktN4LT8BXEM7HDSrxMHM6XasY',\n",
       "   'xpub': 'tpubDHTkv9rPQvWpBhzM71Pv8xN6rHvsZcgfvzdPhu7Ukcy536BtHmVp4NBAP4aP5Laycoz7Shaprf1xgAyBrZdGuoDWUFcrPc3UuiqRTBcQnxt'}]}"
      ]
     },
     "execution_count": 10,
     "metadata": {},
     "output_type": "execute_result"
    }
   ],
   "source": [
    "# Create a dictionary object called coins to store the output from `derive_wallets`.\n",
    "coins = {\n",
    "    ETH: derive_wallets(ETH),\n",
    "    BTCTEST: derive_wallets(BTCTEST),\n",
    "    }\n",
    "\n",
    "coins"
   ]
  },
  {
   "cell_type": "code",
   "execution_count": 11,
   "metadata": {},
   "outputs": [
    {
     "name": "stdout",
     "output_type": "stream",
     "text": [
      "ETH private key: 0x82d63adc8be924a92ef77c6e3286c4e80eaebad63ba2b91c27801a62ba2f9410\n",
      "BTCTEST private key: cVAgDoahzo5Ucdv8ioxxubvmE6LfU3ZQgJ21UvY4eC1xi6WkvnXe\n"
     ]
    }
   ],
   "source": [
    "# Check access to `coins` dict\n",
    "print(f\"ETH private key: {coins[ETH][0]['privkey']}\")\n",
    "print(f\"BTCTEST private key: {coins[BTCTEST][0]['privkey']}\")"
   ]
  },
  {
   "cell_type": "markdown",
   "metadata": {},
   "source": [
    "## Linking Transaction Signing Libraries"
   ]
  },
  {
   "cell_type": "markdown",
   "metadata": {},
   "source": [
    "### `priv_key_to_account` function"
   ]
  },
  {
   "cell_type": "code",
   "execution_count": 12,
   "metadata": {},
   "outputs": [],
   "source": [
    "# Create a function called `priv_key_to_account` that converts privkey strings to account objects.\n",
    "def priv_key_to_account(coin):\n",
    "    if coin == ETH:\n",
    "        return Account.privateKeyToAccount(coins[coin][0]['privkey'])\n",
    "    if coin == BTCTEST:\n",
    "        return PrivateKeyTestnet(coins[coin][0]['privkey'])"
   ]
  },
  {
   "cell_type": "markdown",
   "metadata": {},
   "source": [
    "#### Tests"
   ]
  },
  {
   "cell_type": "code",
   "execution_count": 13,
   "metadata": {},
   "outputs": [],
   "source": [
    "# # Tests for syntax and object types\n",
    "# eprivkey = Account.privateKeyToAccount(coins[ETH][0]['privkey'])\n",
    "# print(f'{eprivkey} || {type(eprivkey)}\\n')\n",
    "\n",
    "# bprivkey = coins[BTCTEST][0]['privkey']\n",
    "# bwifkey = wif_to_key(bprivkey)\n",
    "# print(f'{bwifkey} || {type(bwifkey)}')\n",
    "# print(f'{PrivateKeyTestnet(bprivkey)} || {type(bwifkey)}\\n')\n",
    "\n",
    "# print(priv_key_to_account(ETH, 0))\n",
    "# print(priv_key_to_account(BTCTEST, 0))"
   ]
  },
  {
   "cell_type": "code",
   "execution_count": 14,
   "metadata": {},
   "outputs": [],
   "source": [
    "# # Test bit functions\n",
    "# key = priv_key_to_account(BTCTEST, 0)\n",
    "\n",
    "# print(f'# BTCTEST Balance: {key.get_balance(\"btc\")}\\n')\n",
    "\n",
    "# print(f'# BTCTEST Balance in USD: ${key.balance_as(\"usd\")}\\n')\n",
    "\n",
    "# print(f'# BTCTEST Transactions:\\n{key.get_transactions()[:3]}\\n')\n",
    "\n",
    "# print(f'# BTCTEST Unspent:\\n{key.get_unspents()}\\n')\n",
    "\n",
    "# # PrivateKeyTestnet.prepare_transaction(account.address, [(recipient, amount, BTC)])"
   ]
  },
  {
   "cell_type": "code",
   "execution_count": 15,
   "metadata": {},
   "outputs": [],
   "source": [
    "# # Test web3 functions\n",
    "# w3 = Web3(Web3.HTTPProvider('http://127.0.0.1:8545'))\n",
    "# w3.middleware_onion.inject(geth_poa_middleware, layer=0)\n",
    "\n",
    "# def create_raw_tx(account, recipient, amount):\n",
    "#     gasEstimate = w3.eth.estimateGas(\n",
    "#         {\"from\": account.address, \"to\": recipient, \"value\": amount}\n",
    "#     )\n",
    "#     return {\n",
    "#         \"from\": account.address,\n",
    "#         \"to\": recipient,\n",
    "#         \"value\": amount,\n",
    "#         \"gasPrice\": w3.eth.gasPrice,\n",
    "#         \"gas\": gasEstimate,\n",
    "#         \"nonce\": w3.eth.getTransactionCount(account.address),\n",
    "#     }\n"
   ]
  },
  {
   "cell_type": "markdown",
   "metadata": {},
   "source": [
    "### `create_tx` function"
   ]
  },
  {
   "cell_type": "code",
   "execution_count": 16,
   "metadata": {},
   "outputs": [],
   "source": [
    "# Create a function called `create_tx` that creates an unsigned transaction appropriate metadata.\n",
    "def create_tx(coin, account, to, amount):\n",
    "    if coin == ETH:\n",
    "        # Convert ETH to WEI\n",
    "        value = w3.toWei(amount, coin)\n",
    "        gasEstimate = w3.eth.estimateGas({'from': account, 'to': to, 'amount': value})\n",
    "        return {\n",
    "            'from': account,\n",
    "            'to': to,\n",
    "            'value': value,\n",
    "            'gasPrice': w3.eth.gasPrice,\n",
    "            'gas': gasEstimate,\n",
    "            'nonce': w3.eth.getTransactionCount(account),\n",
    "            'chainID': w3.eth.chain_id\n",
    "        }\n",
    "    if coin == BTCTEST:\n",
    "        return PrivateKeyTestnet.prepare_transaction(account.address, [(to, amount, BTC)])"
   ]
  },
  {
   "cell_type": "markdown",
   "metadata": {},
   "source": [
    "### `send_tx` function"
   ]
  },
  {
   "cell_type": "code",
   "execution_count": 17,
   "metadata": {},
   "outputs": [],
   "source": [
    "# Create a function called `send_tx` that calls `create_tx`, signs and sends the transaction.\n",
    "def send_tx(coin, account, recipient, amount):\n",
    "    if coin == ETH:\n",
    "        tx = create_tx(coin, account.address, to, amount)\n",
    "        signed_tx = account.signTransaction(tx)\n",
    "        return w3.eth.sendRawTransaction(signed_tx.rawTransaction)\n",
    "    if coin == BTCTEST:\n",
    "        tx = create_tx(coin, account.address, to, amount)\n",
    "        signed_tx = account.sign_transaction(tx)\n",
    "        return NetworkAPI.broadcast_tx_testnet(signed)"
   ]
  },
  {
   "cell_type": "markdown",
   "metadata": {},
   "source": [
    "---"
   ]
  },
  {
   "cell_type": "markdown",
   "metadata": {},
   "source": [
    "# *Work in Progress*"
   ]
  },
  {
   "cell_type": "markdown",
   "metadata": {},
   "source": [
    "## Send some transactions"
   ]
  },
  {
   "cell_type": "code",
   "execution_count": null,
   "metadata": {},
   "outputs": [],
   "source": []
  }
 ],
 "metadata": {
  "interpreter": {
   "hash": "1ccecfed2e5793b667722ac5d68a3e3cac4f343f0dab75834378bb56b2b70553"
  },
  "kernelspec": {
   "display_name": "Python 3.7.11 64-bit ('ethereum': conda)",
   "name": "python3"
  },
  "language_info": {
   "codemirror_mode": {
    "name": "ipython",
    "version": 3
   },
   "file_extension": ".py",
   "mimetype": "text/x-python",
   "name": "python",
   "nbconvert_exporter": "python",
   "pygments_lexer": "ipython3",
   "version": "3.7.11"
  },
  "orig_nbformat": 4
 },
 "nbformat": 4,
 "nbformat_minor": 2
}
