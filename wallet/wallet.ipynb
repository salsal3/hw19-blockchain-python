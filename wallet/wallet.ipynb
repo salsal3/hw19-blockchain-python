{
 "cells": [
  {
   "cell_type": "markdown",
   "metadata": {},
   "source": [
    "# Homework 19: Blockchain with Python"
   ]
  },
  {
   "cell_type": "markdown",
   "metadata": {},
   "source": [
    "## Imports"
   ]
  },
  {
   "cell_type": "code",
   "execution_count": 61,
   "metadata": {},
   "outputs": [],
   "source": [
    "# Import dependencies\n",
    "import subprocess\n",
    "import json\n",
    "import os\n",
    "import pprint\n",
    "from dotenv import load_dotenv\n",
    "\n",
    "# Load and set environment variables\n",
    "load_dotenv('token.env')\n",
    "mnemonic = os.getenv('mnemonic')\n",
    "\n",
    "# Import constants.py and necessary functions from bit and web3\n",
    "from constants import *\n",
    "from bit import wif_to_key\n",
    "from bit import PrivateKeyTestnet\n",
    "from bit.network import NetworkAPI\n",
    "\n",
    "from web3 import Web3\n",
    "from web3.middleware import geth_poa_middleware\n",
    "from eth_account import Account\n",
    "from getpass import getpass\n",
    "\n",
    "w3 = Web3(Web3.HTTPProvider('http://127.0.0.1:8545'))\n",
    "w3.middleware_onion.inject(geth_poa_middleware, layer=0)"
   ]
  },
  {
   "cell_type": "markdown",
   "metadata": {},
   "source": [
    "### Check constants and mnemonic"
   ]
  },
  {
   "cell_type": "code",
   "execution_count": 14,
   "metadata": {},
   "outputs": [],
   "source": [
    "# # Check imported constants and mnemonic\n",
    "# print(ETH, BTCTEST, BTC)\n",
    "# print(mnemonic)"
   ]
  },
  {
   "cell_type": "markdown",
   "metadata": {},
   "source": [
    "### Chatter function"
   ]
  },
  {
   "cell_type": "code",
   "execution_count": 15,
   "metadata": {},
   "outputs": [
    {
     "name": "stdout",
     "output_type": "stream",
     "text": [
      "Testing chatter function..\n",
      ".........\n",
      "Testing complete.\n",
      "------------\n"
     ]
    }
   ],
   "source": [
    "# \"Chatter\" function from Project 1 that prints lines one character at a time\n",
    "import time\n",
    "import sys\n",
    "from random import randrange\n",
    "\n",
    "# def chatter(npc_chatter):\n",
    "#     print()\n",
    "#     for c in npc_chatter:\n",
    "#         sys.stdout.write(c)\n",
    "#         sys.stdout.flush()\n",
    "#         secs = '0.02'# + str(randrange(10,20,1))\n",
    "#         secs = float(secs)\n",
    "#         time.sleep(secs)\n",
    "#     print()\n",
    "#     time.sleep(1)\n",
    "\n",
    "# Import function from 'chatter.py'\n",
    "from chatter import chatter\n",
    "\n",
    "chatter('Testing chatter function..')\n",
    "chatter('.........')\n",
    "chatter('Testing complete.')\n",
    "chatter('------------')\n",
    "\n",
    "# Shortened function for testing\n",
    "# def chatter(npc_chatter):\n",
    "#     print(npc_chatter)\n",
    "# chatter('Test test')"
   ]
  },
  {
   "cell_type": "code",
   "execution_count": 16,
   "metadata": {},
   "outputs": [
    {
     "name": "stdout",
     "output_type": "stream",
     "text": [
      "Would you like to disable chatter function for faster text?\n",
      "Chatter is disabled.\n"
     ]
    }
   ],
   "source": [
    "# Toggle chatter\n",
    "chatter('Would you like to disable chatter function for faster text?')\n",
    "chatter_io = input('Disable chatter function? (y/n): ')\n",
    "if chatter_io.lower() == 'y':\n",
    "    def chatter(npc_chatter):\n",
    "        print(npc_chatter)\n",
    "    chatter('Chatter is disabled.')\n",
    "else:\n",
    "    from chatter import chatter\n",
    "    chatter('Chatter is enabled.')\n",
    "    pass"
   ]
  },
  {
   "cell_type": "code",
   "execution_count": 17,
   "metadata": {},
   "outputs": [
    {
     "name": "stdout",
     "output_type": "stream",
     "text": [
      "Test test test test test\n"
     ]
    }
   ],
   "source": [
    "chatter('Test test test test test')"
   ]
  },
  {
   "cell_type": "markdown",
   "metadata": {},
   "source": [
    "## Derive Wallet Keys"
   ]
  },
  {
   "cell_type": "markdown",
   "metadata": {},
   "source": [
    "### Tests"
   ]
  },
  {
   "cell_type": "code",
   "execution_count": 18,
   "metadata": {},
   "outputs": [],
   "source": [
    "# # Test `./derive` script from README\n",
    "# command = 'php ./derive --key=xprv9zbB6Xchu2zRkf6jSEnH9vuy7tpBuq2njDRr9efSGBXSYr1QtN8QHRur28QLQvKRqFThCxopdS1UD61a5q6jGyuJPGLDV9XfYHQto72DAE8 --cols=path,address --coin=ZEC --numderive=3 -g --format=json'\n",
    "\n",
    "# p = subprocess.Popen(command, stdout=subprocess.PIPE, shell=True)\n",
    "# output, err = p.communicate()\n",
    "# p_status = p.wait()\n",
    "\n",
    "# keys = json.loads(output)\n",
    "# keys"
   ]
  },
  {
   "cell_type": "markdown",
   "metadata": {},
   "source": [
    "#### BTC-test derive_wallet function"
   ]
  },
  {
   "cell_type": "code",
   "execution_count": 19,
   "metadata": {},
   "outputs": [],
   "source": [
    "# test = \"BTC-test\""
   ]
  },
  {
   "cell_type": "code",
   "execution_count": 20,
   "metadata": {},
   "outputs": [],
   "source": [
    "# # Create a function called `derive_wallets`\n",
    "# # Derive 'btc-test' wallet keys\n",
    "# # '--coin' flag does not accept the BTCTEST constant when passed in the function by itself\n",
    "# def derive_btc(command, stdout=subprocess.PIPE, shell=True):\n",
    "#     command = 'php ./derive -g --mnemonic=mnemonic --coin=\"btc-test\" --numderive=3 --cols=address,index,path,privkey,pubkey,pubkeyhash,xprv,xpub --format=json'\n",
    "#     p = subprocess.Popen(command, stdout=subprocess.PIPE, shell=True)\n",
    "#     output, err = p.communicate()\n",
    "#     p_status = p.wait()\n",
    "#     return json.loads(output)\n",
    "\n",
    "# derive_btc(command)"
   ]
  },
  {
   "cell_type": "markdown",
   "metadata": {},
   "source": [
    "#### ETH derive_wallet function"
   ]
  },
  {
   "cell_type": "code",
   "execution_count": 21,
   "metadata": {},
   "outputs": [],
   "source": [
    "# # Derive 'eth' wallet keys\n",
    "# def derive_eth(command, stdout=subprocess.PIPE, shell=True):\n",
    "#     command = 'php ./derive -g --mnemonic=mnemonic --coin=ETH --numderive=3 --cols=address,index,path,privkey,pubkey,pubkeyhash,xprv,xpub --format=json'\n",
    "#     p = subprocess.Popen(command, stdout=subprocess.PIPE, shell=True)\n",
    "#     output, err = p.communicate()\n",
    "#     p_status = p.wait()\n",
    "#     return json.loads(output)\n",
    "\n",
    "# derive_eth(command)"
   ]
  },
  {
   "cell_type": "markdown",
   "metadata": {},
   "source": [
    "### `derive_wallets` function"
   ]
  },
  {
   "cell_type": "code",
   "execution_count": 22,
   "metadata": {},
   "outputs": [],
   "source": [
    "# Derive both sets of wallet keys in one function\n",
    "def derive_wallets(coin, stdout=subprocess.PIPE, shell=True):\n",
    "    chatter(f'Enter mnemonic for {coin}. Leave blank to use test wallet.')\n",
    "    user = input('Enter mnemonic without quotes: ')\n",
    "    if user == '':\n",
    "        chatter(f'No mnemonic specified. Accessing test {coin} wallet..')\n",
    "        phrase = f'\"{mnemonic}\"'\n",
    "        # print(phrase)\n",
    "    else:\n",
    "        chatter(f'Checking for user\\'s {coin} wallet..')\n",
    "        phrase = f'\"{user}\"'\n",
    "        # print(phrase)\n",
    "    \n",
    "    command = f'php ./derive -g --mnemonic={phrase} --coin={coin} --numderive=2 --cols=address,index,path,privkey,pubkey --format=json'    \n",
    "    p = subprocess.Popen(command, stdout=subprocess.PIPE, shell=True)\n",
    "    output, err = p.communicate()\n",
    "    p_status = p.wait()\n",
    "    # wallet = return json.loads(output)\n",
    "    # return wallet\n",
    "    \n",
    "    # Create global variables for the wallets\n",
    "    if coin == ETH:\n",
    "        global eth_wallet\n",
    "        eth_wallet = json.loads(output)\n",
    "        return json.loads(output)\n",
    "    elif coin == BTCTEST:\n",
    "        global btctest_wallet\n",
    "        btctest_wallet = json.loads(output)\n",
    "        return json.loads(output)"
   ]
  },
  {
   "cell_type": "code",
   "execution_count": 23,
   "metadata": {},
   "outputs": [],
   "source": [
    "# # Test function and wallet variables\n",
    "# derive_wallets(ETH, 2)\n",
    "# derive_wallets(BTCTEST, 2)\n",
    "\n",
    "# eth_wallet\n",
    "# btctest_wallet"
   ]
  },
  {
   "cell_type": "markdown",
   "metadata": {},
   "source": [
    "### `coins` dict"
   ]
  },
  {
   "cell_type": "code",
   "execution_count": 24,
   "metadata": {},
   "outputs": [
    {
     "name": "stdout",
     "output_type": "stream",
     "text": [
      "Enter mnemonic for eth. Leave blank to use test wallet.\n",
      "No mnemonic specified. Accessing test eth wallet..\n",
      "Enter mnemonic for btc-test. Leave blank to use test wallet.\n",
      "No mnemonic specified. Accessing test btc-test wallet..\n"
     ]
    },
    {
     "data": {
      "text/plain": [
       "{'eth': [{'address': '0x9528797349d45DBa807F63f7b57373d53f5EAD64',\n",
       "   'index': 0,\n",
       "   'path': \"m/44'/60'/0'/0/0\",\n",
       "   'privkey': '0x2c79af3249bc7893b4af36f7b65f38147c87a422635e240cb723d59411ef2472',\n",
       "   'pubkey': '03602fbdbca80f97f4ab6aacb504aea9a7cd435cf39395f52ff72baca1c5c6a966'},\n",
       "  {'address': '0x26077A0eaA11E133739F070b001D28267264D24A',\n",
       "   'index': 1,\n",
       "   'path': \"m/44'/60'/0'/0/1\",\n",
       "   'privkey': '0xb39311ad2712a9ebce73b92bdad2e04ae859321baf27e845411c83b446c5eb56',\n",
       "   'pubkey': '0293869e8e611afb86bb8a65cafbf3c37dcbf9f797a8ef49eb86fdb6e2bfa2dcf9'}],\n",
       " 'btc-test': [{'address': 'mwY8rKZDHjzxx9JYCkfBWXfC89n7LkeRm3',\n",
       "   'index': 0,\n",
       "   'path': \"m/44'/1'/0'/0/0\",\n",
       "   'privkey': 'cSPGhcfZUpNwJuyBgHB1qA2QMeWXLYrZSrGKhppaEkDpejkhzqcj',\n",
       "   'pubkey': '036c02e87ffb626f71c32c2433aa14e5be517cb16e79db055116fbcb063c7a17a5'},\n",
       "  {'address': 'mnLfB25RMps3ABSqK6orbwQDQdMhC1FvS2',\n",
       "   'index': 1,\n",
       "   'path': \"m/44'/1'/0'/0/1\",\n",
       "   'privkey': 'cUrNRHgxRmpdxzxcCXi1YgNwpyDtmboT5fAi989kyg6uJKbFy34r',\n",
       "   'pubkey': '025f11e56d1fdef8672340141e329df8bf6bfdf9c1a34cd5cb656fa5aef9c2f79f'}]}"
      ]
     },
     "execution_count": 24,
     "metadata": {},
     "output_type": "execute_result"
    }
   ],
   "source": [
    "# Create a dictionary object called coins to store the output from `derive_wallets`.\n",
    "coins = {\n",
    "    ETH: derive_wallets(ETH),\n",
    "    BTCTEST: derive_wallets(BTCTEST),\n",
    "    }\n",
    "\n",
    "coins"
   ]
  },
  {
   "cell_type": "code",
   "execution_count": 25,
   "metadata": {},
   "outputs": [],
   "source": [
    "# # Check access to `coins` dict\n",
    "# print(f\"ETH private key: {coins[ETH][0]['privkey']}\")\n",
    "# print(f\"BTCTEST private key: {coins[BTCTEST][0]['privkey']}\")"
   ]
  },
  {
   "cell_type": "markdown",
   "metadata": {},
   "source": [
    "## Linking Transaction Signing Libraries"
   ]
  },
  {
   "cell_type": "markdown",
   "metadata": {},
   "source": [
    "### `priv_key_to_account` function"
   ]
  },
  {
   "cell_type": "code",
   "execution_count": 26,
   "metadata": {},
   "outputs": [],
   "source": [
    "# Create a function called `priv_key_to_account` that converts privkey strings to account objects.\n",
    "def priv_key_to_account(coin, priv_key):\n",
    "    if coin == ETH:\n",
    "        # Create global variables for account data\n",
    "        # global eth_account\n",
    "        # eth_account = Account.privateKeyToAccount(priv_key)\n",
    "        return Account.privateKeyToAccount(priv_key)\n",
    "    elif coin == BTCTEST:\n",
    "        # global btctest_account\n",
    "        # btctest_account = PrivateKeyTestnet(priv_key)\n",
    "        return PrivateKeyTestnet(priv_key)"
   ]
  },
  {
   "cell_type": "code",
   "execution_count": 27,
   "metadata": {},
   "outputs": [],
   "source": [
    "# # Test function and global variables\n",
    "# print(priv_key_to_account(ETH, eth_privkey))\n",
    "# print(eth_account)\n",
    "# print()\n",
    "# print(priv_key_to_account(BTCTEST, btctest_privkey))\n",
    "# print(btctest_account)"
   ]
  },
  {
   "cell_type": "code",
   "execution_count": 88,
   "metadata": {},
   "outputs": [
    {
     "name": "stdout",
     "output_type": "stream",
     "text": [
      "ETH balance (in wei): 94999411999999999930\n",
      "ETH balance (in ETH): 94.99941199999999993\n",
      "ETH balance (in wei): 94999411999999999930\n"
     ]
    }
   ],
   "source": [
    "print(f'ETH balance (in wei): {w3.eth.get_balance(eth_address)}')\n",
    "print(f'ETH balance (in ETH): {w3.fromWei(w3.eth.get_balance(eth_address), \"ether\")}')"
   ]
  },
  {
   "cell_type": "markdown",
   "metadata": {},
   "source": [
    "#### Tests"
   ]
  },
  {
   "cell_type": "code",
   "execution_count": 28,
   "metadata": {},
   "outputs": [],
   "source": [
    "# # Tests for syntax and object types\n",
    "# eprivkey = Account.privateKeyToAccount(coins[ETH][0]['privkey'])\n",
    "# print(f'{eprivkey} || {type(eprivkey)}\\n')\n",
    "\n",
    "# bprivkey = coins[BTCTEST][0]['privkey']\n",
    "# bwifkey = wif_to_key(bprivkey)\n",
    "# print(f'{bwifkey} || {type(bwifkey)}')\n",
    "# print(f'{PrivateKeyTestnet(bprivkey)} || {type(bwifkey)}\\n')\n",
    "\n",
    "# print(priv_key_to_account(ETH, 0))\n",
    "# print(priv_key_to_account(BTCTEST, 0))"
   ]
  },
  {
   "cell_type": "code",
   "execution_count": 29,
   "metadata": {},
   "outputs": [],
   "source": [
    "# # Test bit functions\n",
    "# key = priv_key_to_account(BTCTEST, 0)\n",
    "\n",
    "# print(f'# BTCTEST Balance: {key.get_balance(\"btc\")}\\n')\n",
    "\n",
    "# print(f'# BTCTEST Balance in USD: ${key.balance_as(\"usd\")}\\n')\n",
    "\n",
    "# print(f'# BTCTEST Transactions:\\n{key.get_transactions()[:3]}\\n')\n",
    "\n",
    "# print(f'# BTCTEST Unspent:\\n{key.get_unspents()}\\n')\n",
    "\n",
    "# # PrivateKeyTestnet.prepare_transaction(account.address, [(recipient, amount, BTC)])"
   ]
  },
  {
   "cell_type": "code",
   "execution_count": 30,
   "metadata": {},
   "outputs": [],
   "source": [
    "# # Test web3 functions\n",
    "# w3 = Web3(Web3.HTTPProvider('http://127.0.0.1:8545'))\n",
    "# w3.middleware_onion.inject(geth_poa_middleware, layer=0)\n",
    "\n",
    "# def create_raw_tx(account, recipient, amount):\n",
    "#     gasEstimate = w3.eth.estimateGas(\n",
    "#         {\"from\": account.address, \"to\": recipient, \"value\": amount}\n",
    "#     )\n",
    "#     return {\n",
    "#         \"from\": account.address,\n",
    "#         \"to\": recipient,\n",
    "#         \"value\": amount,\n",
    "#         \"gasPrice\": w3.eth.gasPrice,\n",
    "#         \"gas\": gasEstimate,\n",
    "#         \"nonce\": w3.eth.getTransactionCount(account.address),\n",
    "#     }\n"
   ]
  },
  {
   "cell_type": "markdown",
   "metadata": {},
   "source": [
    "### `create_tx` function"
   ]
  },
  {
   "cell_type": "code",
   "execution_count": 70,
   "metadata": {},
   "outputs": [],
   "source": [
    "# Create a function called `create_tx` that creates an unsigned transaction appropriate metadata.\n",
    "def create_tx(coin, account, to, amount):\n",
    "    chatter(f'Creating unsigned {coin} transaction..')\n",
    "    if coin == ETH:\n",
    "        gasEstimate = w3.eth.estimateGas(\n",
    "            {'from': account.address, 'to': to, 'value': amount}\n",
    "        )\n",
    "        return {\n",
    "            'from': account.address,\n",
    "            'to': to,\n",
    "            'value': amount,\n",
    "            'gasPrice': w3.eth.gasPrice,\n",
    "            'gas': gasEstimate,\n",
    "            'nonce': w3.eth.getTransactionCount(account.address),\n",
    "            # 'chainID': w3.eth.chain_id\n",
    "        }\n",
    "    elif coin == BTCTEST:\n",
    "        return PrivateKeyTestnet.prepare_transaction(account.address, [(to, amount, BTC)])"
   ]
  },
  {
   "cell_type": "code",
   "execution_count": 32,
   "metadata": {},
   "outputs": [],
   "source": [
    "# Test function\n",
    "# create_tx(BTCTEST, priv_key_to_account(BTCTEST, derive_wallets(BTCTEST)), 'mnLfB25RMps3ABSqK6orbwQDQdMhC1FvS2', .00001)\n",
    "# create_tx(ETH, priv_key_to_account(ETH, derive_wallets(ETH)), '0x6810BE478c13290ED8e9dda715e3Beb6D401Ac9C', .00001)"
   ]
  },
  {
   "cell_type": "markdown",
   "metadata": {},
   "source": [
    "### `send_tx` function"
   ]
  },
  {
   "cell_type": "code",
   "execution_count": 77,
   "metadata": {},
   "outputs": [],
   "source": [
    "# Create a function called `send_tx` that calls `create_tx`, signs and sends the transaction.\n",
    "def send_tx(coin, account, to, amount):\n",
    "    if coin == ETH:\n",
    "        raw_tx = create_tx(coin, account, to, amount)\n",
    "        chatter('Unsigned transaction created.')\n",
    "        chatter('Sending transaction..')\n",
    "        signed_tx = account.sign_transaction(raw_tx)\n",
    "        result = w3.eth.sendRawTransaction(signed_tx.rawTransaction)\n",
    "        chatter('Transaction sent.')\n",
    "        return result.hex()\n",
    "    elif coin == BTCTEST:\n",
    "        raw_tx = create_tx(coin, account, to, amount)\n",
    "        chatter('Unsigned transaction created.')\n",
    "        chatter('Sending transaction..')\n",
    "        signed_tx = account.sign_transaction(raw_tx)\n",
    "        chatter('Transaction sent.')\n",
    "        return NetworkAPI.broadcast_tx_testnet(signed_tx)"
   ]
  },
  {
   "cell_type": "markdown",
   "metadata": {},
   "source": [
    "### Wallet variables"
   ]
  },
  {
   "cell_type": "code",
   "execution_count": 84,
   "metadata": {},
   "outputs": [],
   "source": [
    "# Create wallet variables\n",
    "eth_account = priv_key_to_account(ETH, eth_privkey)\n",
    "eth_address = coins[ETH][0]['address']\n",
    "eth_privkey = coins[ETH][0]['privkey']\n",
    "eth_receiver = '0x26077A0eaA11E133739F070b001D28267264D24A'     # second eth wallet\n",
    "btctest_account = priv_key_to_account(BTCTEST, btctest_privkey)\n",
    "btctest_address = coins[BTCTEST][0]['address']\n",
    "btctest_privkey = coins[BTCTEST][0]['privkey']\n",
    "btctest_receiver = 'mnLfB25RMps3ABSqK6orbwQDQdMhC1FvS2'     # second btctest wallet\n",
    "\n",
    "# Check values\n",
    "# print(f'ETH address: {eth_address}\\nprivkey: {eth_privkey}')\n",
    "# print()\n",
    "# print(f'BTCTEST address: {btctest_address}\\nprivkey: {btctest_privkey}')\n",
    "\n",
    "# print(f'ETH privkey: {json.dumps(eth_privkey)}')\n",
    "# print(f'BTCTEST privkey: {json.dumps(btctest_privkey)}')"
   ]
  },
  {
   "cell_type": "markdown",
   "metadata": {},
   "source": [
    "---"
   ]
  },
  {
   "cell_type": "markdown",
   "metadata": {},
   "source": [
    "## Send some transactions"
   ]
  },
  {
   "cell_type": "markdown",
   "metadata": {},
   "source": [
    "Generate wallet based on 'coin' input  \n",
    "`derive_wallets(coin)`\n",
    "\n",
    "Runs derive_wallets(coin) to generate both wallets', and to store addresses and priv_keys  \n",
    "`coins`\n",
    "\n",
    "Generate accounts based on parameters 'coin' and 'priv_key'  \n",
    "`priv_key_to_account(coin, priv_key)`\n",
    "\n",
    "Creates transaction based on parameters 'coin', 'account', 'to', 'amount'  \n",
    "`create_tx(coin, account, to, amount)`\n",
    "\n",
    "Runs create_tx() with associated parameters, then sends transaction  \n",
    "`send_tx(coin, account, to, amount)`\n"
   ]
  },
  {
   "cell_type": "code",
   "execution_count": 35,
   "metadata": {},
   "outputs": [
    {
     "data": {
      "text/plain": [
       "{'eth': [{'address': '0x9528797349d45DBa807F63f7b57373d53f5EAD64',\n",
       "   'index': 0,\n",
       "   'path': \"m/44'/60'/0'/0/0\",\n",
       "   'privkey': '0x2c79af3249bc7893b4af36f7b65f38147c87a422635e240cb723d59411ef2472',\n",
       "   'pubkey': '03602fbdbca80f97f4ab6aacb504aea9a7cd435cf39395f52ff72baca1c5c6a966'},\n",
       "  {'address': '0x26077A0eaA11E133739F070b001D28267264D24A',\n",
       "   'index': 1,\n",
       "   'path': \"m/44'/60'/0'/0/1\",\n",
       "   'privkey': '0xb39311ad2712a9ebce73b92bdad2e04ae859321baf27e845411c83b446c5eb56',\n",
       "   'pubkey': '0293869e8e611afb86bb8a65cafbf3c37dcbf9f797a8ef49eb86fdb6e2bfa2dcf9'}],\n",
       " 'btc-test': [{'address': 'mwY8rKZDHjzxx9JYCkfBWXfC89n7LkeRm3',\n",
       "   'index': 0,\n",
       "   'path': \"m/44'/1'/0'/0/0\",\n",
       "   'privkey': 'cSPGhcfZUpNwJuyBgHB1qA2QMeWXLYrZSrGKhppaEkDpejkhzqcj',\n",
       "   'pubkey': '036c02e87ffb626f71c32c2433aa14e5be517cb16e79db055116fbcb063c7a17a5'},\n",
       "  {'address': 'mnLfB25RMps3ABSqK6orbwQDQdMhC1FvS2',\n",
       "   'index': 1,\n",
       "   'path': \"m/44'/1'/0'/0/1\",\n",
       "   'privkey': 'cUrNRHgxRmpdxzxcCXi1YgNwpyDtmboT5fAi989kyg6uJKbFy34r',\n",
       "   'pubkey': '025f11e56d1fdef8672340141e329df8bf6bfdf9c1a34cd5cb656fa5aef9c2f79f'}]}"
      ]
     },
     "execution_count": 35,
     "metadata": {},
     "output_type": "execute_result"
    }
   ],
   "source": [
    "coins"
   ]
  },
  {
   "cell_type": "markdown",
   "metadata": {},
   "source": [
    "### ETH Transaction"
   ]
  },
  {
   "cell_type": "code",
   "execution_count": 37,
   "metadata": {},
   "outputs": [
    {
     "data": {
      "text/plain": [
       "<eth_account.signers.local.LocalAccount at 0x259966a6e48>"
      ]
     },
     "execution_count": 37,
     "metadata": {},
     "output_type": "execute_result"
    }
   ],
   "source": [
    "priv_key_to_account(ETH, eth_privkey)"
   ]
  },
  {
   "cell_type": "code",
   "execution_count": 72,
   "metadata": {},
   "outputs": [
    {
     "name": "stdout",
     "output_type": "stream",
     "text": [
      "Creating unsigned eth transaction..\n",
      "Unsigned transaction created.\n",
      "Sending transaction..\n",
      "Transaction sent.\n",
      "0x949ab560eaa1fcdaf3602a993b7c9cece329c62f1a5a423f8fb0bff0bcd5dbcb\n"
     ]
    },
    {
     "data": {
      "text/plain": [
       "'0x949ab560eaa1fcdaf3602a993b7c9cece329c62f1a5a423f8fb0bff0bcd5dbcb'"
      ]
     },
     "execution_count": 72,
     "metadata": {},
     "output_type": "execute_result"
    }
   ],
   "source": [
    "# send_tx(ETH, eth_account, eth_receiver, 5)"
   ]
  },
  {
   "cell_type": "code",
   "execution_count": 79,
   "metadata": {},
   "outputs": [
    {
     "name": "stdout",
     "output_type": "stream",
     "text": [
      "94999411999999999930\n",
      "5\n"
     ]
    }
   ],
   "source": [
    "# Check balance and number of transactions\n",
    "print(w3.eth.get_balance(coins[ETH][0]['address']))\n",
    "print(w3.eth.get_transaction_count(coins[ETH][0]['address']))"
   ]
  },
  {
   "cell_type": "code",
   "execution_count": 74,
   "metadata": {},
   "outputs": [
    {
     "name": "stdout",
     "output_type": "stream",
     "text": [
      "AttributeDict({'hash': HexBytes('0x949ab560eaa1fcdaf3602a993b7c9cece329c62f1a5a423f8fb0bff0bcd5dbcb'), 'nonce': 2, 'blockHash': HexBytes('0x20404e95c1c6774a8d5a48f95e4ecea6d43709409d79c22331058b0713397eb2'), 'blockNumber': 3, 'transactionIndex': 0, 'from': '0x9528797349d45DBa807F63f7b57373d53f5EAD64', 'to': '0x26077A0eaA11E133739F070b001D28267264D24A', 'value': 5, 'gas': 21000, 'gasPrice': 2000000000, 'input': '0x', 'v': 27, 'r': HexBytes('0xee67dc821afbe0702b1c2688e3b5600785ca27264addb0e9d123977f9b8abeff'), 's': HexBytes('0x3a549a598c68f8fcd74cd68058d874b7b311c5bcecef8eb369b029e0f8908a16')})\n"
     ]
    }
   ],
   "source": [
    "# Check transaction using hash\n",
    "print(w3.eth.get_transaction('0x949ab560eaa1fcdaf3602a993b7c9cece329c62f1a5a423f8fb0bff0bcd5dbcb'))"
   ]
  },
  {
   "cell_type": "markdown",
   "metadata": {},
   "source": [
    "### BTCTEST Transaction"
   ]
  },
  {
   "cell_type": "code",
   "execution_count": 75,
   "metadata": {},
   "outputs": [
    {
     "data": {
      "text/plain": [
       "<PrivateKeyTestnet: mwY8rKZDHjzxx9JYCkfBWXfC89n7LkeRm3>"
      ]
     },
     "execution_count": 75,
     "metadata": {},
     "output_type": "execute_result"
    }
   ],
   "source": [
    "priv_key_to_account(BTCTEST, btctest_privkey)"
   ]
  },
  {
   "cell_type": "code",
   "execution_count": 78,
   "metadata": {},
   "outputs": [
    {
     "name": "stdout",
     "output_type": "stream",
     "text": [
      "Creating unsigned btc-test transaction..\n",
      "Unsigned transaction created.\n",
      "Sending transaction..\n",
      "Transaction sent.\n",
      "None\n"
     ]
    }
   ],
   "source": [
    "send_tx(BTCTEST, btctest_account, btctest_receiver, 0.00001)"
   ]
  },
  {
   "cell_type": "code",
   "execution_count": 43,
   "metadata": {},
   "outputs": [
    {
     "data": {
      "text/plain": [
       "['fc2cf8573ef0eb2f9428c580d3ddabeeafd657cc40c28386eb128cd53117b497',\n",
       " 'bbeb2fd9c9008df58ce5387a257df8cac49b37e0abb3010fcbbe673d1bada9ee',\n",
       " 'e9e6b0c7ff5772e9e49d30fbb0ac7951be39612e38823e5f3faeb20c58a9f8c3',\n",
       " 'da2994a751de4c252eb4e3c27304d36e8cfeb01c48b7cfe6ca2b325eecfb0b3a',\n",
       " '04cdae499b1a375c0ac1220dadbaa1890e3f379023f72fdf8bc5ea641c27efef',\n",
       " '4ed6bbbf59b3b59628593f9e59c0d37d3a82bd12a8d8686e4580e73c22bf12b5',\n",
       " 'dc65c9859abea9eae7584eba7aa82f7974c405fba7b19740fc275d40de6bf7ad',\n",
       " 'f362f86360812f1b38e9e860796947340b07d2245256de15e8799a31a8601259',\n",
       " '2b1b2a689c72b98fe82578c0c0dcf59a5d027335e9b8efa590632502fde75827',\n",
       " '3d29856649840461de837e1d0fe507d116a2619fd5fcad887f80002c108c8ca2',\n",
       " '0539093c1fb792560616ee2d8f0e6e9c1b2ee62d7edd9f19ed8d2c372f8b6ef1',\n",
       " '7e00ac895062470221f7df662f973a0715ebfabb0d24446d6fec95dc5fddb4b2']"
      ]
     },
     "execution_count": 43,
     "metadata": {},
     "output_type": "execute_result"
    }
   ],
   "source": [
    "# Get transaction history\n",
    "btctest_account.get_transactions()"
   ]
  },
  {
   "cell_type": "code",
   "execution_count": 44,
   "metadata": {},
   "outputs": [
    {
     "data": {
      "text/plain": [
       "'0.00221156'"
      ]
     },
     "execution_count": 44,
     "metadata": {},
     "output_type": "execute_result"
    }
   ],
   "source": [
    "# Get balance\n",
    "btctest_account.get_balance('btc')"
   ]
  },
  {
   "cell_type": "code",
   "execution_count": null,
   "metadata": {},
   "outputs": [],
   "source": []
  }
 ],
 "metadata": {
  "interpreter": {
   "hash": "1ccecfed2e5793b667722ac5d68a3e3cac4f343f0dab75834378bb56b2b70553"
  },
  "kernelspec": {
   "display_name": "Python 3.7.11 64-bit ('ethereum': conda)",
   "name": "python3"
  },
  "language_info": {
   "codemirror_mode": {
    "name": "ipython",
    "version": 3
   },
   "file_extension": ".py",
   "mimetype": "text/x-python",
   "name": "python",
   "nbconvert_exporter": "python",
   "pygments_lexer": "ipython3",
   "version": "3.7.11"
  },
  "orig_nbformat": 4
 },
 "nbformat": 4,
 "nbformat_minor": 2
}
