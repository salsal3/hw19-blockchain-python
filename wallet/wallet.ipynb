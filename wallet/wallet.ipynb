{
 "cells": [
  {
   "cell_type": "markdown",
   "metadata": {},
   "source": [
    "# Homework 19: Blockchain with Python"
   ]
  },
  {
   "cell_type": "markdown",
   "metadata": {},
   "source": [
    "## Imports"
   ]
  },
  {
   "cell_type": "code",
   "execution_count": 1,
   "metadata": {},
   "outputs": [],
   "source": [
    "# Import dependencies\n",
    "import subprocess\n",
    "import json\n",
    "import os\n",
    "import pprint\n",
    "from dotenv import load_dotenv\n",
    "\n",
    "# Load and set environment variables\n",
    "load_dotenv('token.env')\n",
    "mnemonic=os.getenv(\"mnemonic\")\n",
    "\n",
    "# Import constants.py and necessary functions from bit and web3\n",
    "from constants import *\n",
    "from bit import wif_to_key\n",
    "from bit import PrivateKeyTestnet\n",
    "\n",
    "from web3 import Web3\n",
    "from web3.middleware import geth_poa_middleware\n",
    "from eth_account import Account"
   ]
  },
  {
   "cell_type": "markdown",
   "metadata": {},
   "source": [
    "## Check constants and mnemonic"
   ]
  },
  {
   "cell_type": "code",
   "execution_count": 2,
   "metadata": {},
   "outputs": [
    {
     "name": "stdout",
     "output_type": "stream",
     "text": [
      "eth btc-test btc\n",
      "alter puppy choice hello almost trophy report innocent letter canyon actress now\n"
     ]
    }
   ],
   "source": [
    "# Check imported constants and mnemonic\n",
    "print(ETH, BTCTEST, BTC)\n",
    "print(mnemonic)"
   ]
  },
  {
   "cell_type": "code",
   "execution_count": 3,
   "metadata": {},
   "outputs": [],
   "source": [
    "# Check keys from 'token.env' [set for testing purposes]\n",
    "# print(f'eth1_address: {eth1_address}')\n",
    "# print(f'eth1_public: {eth1_public}')\n",
    "# print(f'eth1_private: {eth1_private}')\n",
    "# print()\n",
    "# print(f'eth2_address: {eth2_address}')\n",
    "# print(f'eth2_public: {eth2_public}')\n",
    "# print(f'eth2_private: {eth2_private}')\n",
    "# print()\n",
    "# print(f'btc_test1_address: {btc1_address}')\n",
    "# print(f'btc_test1_public: {btc1_public}')\n",
    "# print(f'btc_test1_private: {btc1_private}')\n",
    "# print()\n",
    "# print(f'btc_test2_address: {btc2_address}')\n",
    "# print(f'btc_test2_public: {btc2_public}')\n",
    "# print(f'btc_test2_private: {btc2_private}')"
   ]
  },
  {
   "cell_type": "markdown",
   "metadata": {},
   "source": [
    "## Derive Wallet Keys"
   ]
  },
  {
   "cell_type": "markdown",
   "metadata": {},
   "source": [
    "### Test script"
   ]
  },
  {
   "cell_type": "code",
   "execution_count": 4,
   "metadata": {},
   "outputs": [
    {
     "data": {
      "text/plain": [
       "[{'path': 'm/0', 'address': 't1V1Qp41kbHn159hvVXZL5M1MmVDRe6EdpA'},\n",
       " {'path': 'm/1', 'address': 't1Tw6iqFY1g9dKeAqPDAncaUjha8cn9SZqX'},\n",
       " {'path': 'm/2', 'address': 't1VGTPzBSSYd27GF8p9rGKGdFuWekKRhug4'}]"
      ]
     },
     "execution_count": 4,
     "metadata": {},
     "output_type": "execute_result"
    }
   ],
   "source": [
    "# Test `./derive` script from README\n",
    "command = 'php ./derive --key=xprv9zbB6Xchu2zRkf6jSEnH9vuy7tpBuq2njDRr9efSGBXSYr1QtN8QHRur28QLQvKRqFThCxopdS1UD61a5q6jGyuJPGLDV9XfYHQto72DAE8 --cols=path,address --coin=ZEC --numderive=3 -g --format=json'\n",
    "\n",
    "p = subprocess.Popen(command, stdout=subprocess.PIPE, shell=True)\n",
    "output, err = p.communicate()\n",
    "p_status = p.wait()\n",
    "\n",
    "keys = json.loads(output)\n",
    "keys"
   ]
  },
  {
   "cell_type": "markdown",
   "metadata": {},
   "source": [
    "### BTC-test wallet keys function"
   ]
  },
  {
   "cell_type": "code",
   "execution_count": 5,
   "metadata": {},
   "outputs": [],
   "source": [
    "# test = \"BTC-test\""
   ]
  },
  {
   "cell_type": "code",
   "execution_count": 6,
   "metadata": {},
   "outputs": [
    {
     "data": {
      "text/plain": [
       "[{'address': 'mtgb9hthmFpY1zidrYmZ24eTF87aBA147h',\n",
       "  'index': 0,\n",
       "  'path': \"m/44'/1'/0'/0/0\",\n",
       "  'privkey': 'cVAgDoahzo5Ucdv8ioxxubvmE6LfU3ZQgJ21UvY4eC1xi6WkvnXe',\n",
       "  'pubkey': '0339b281b12687c70a024ef409229b55d404533b4e9a475dc9d3883c0172913fb6',\n",
       "  'pubkeyhash': '906c250da82c2bd3edf9bcbbbb29f2188065f9d2',\n",
       "  'xprv': 'tprv8kmimjp9GYq9EvcrxozEhxzk9jGwaC73BSiy3ATqwwikM4YgH7685zQLzX7xzXAmhXxf5LZbpbqtSGX3fcNFbfVJdxuEYPrA5tDRRQgwPRm',\n",
       "  'xpub': 'tpubDHTkv9rPQvWp8PeerTeq7NeriknsjXHwkkKkKgW9NDX9BYoSuVuiGV2DAejLNv85zVm31akUTVk6Z8MyhECbWDzQ3Qir4GoRCXfBgKk8GxA'},\n",
       " {'address': 'mxwSU31v1NtbUi6Pc5bN9BgmmAGw13JdvX',\n",
       "  'index': 1,\n",
       "  'path': \"m/44'/1'/0'/0/1\",\n",
       "  'privkey': 'cRG5vrAkkq3ZkTmT2mmqCgbxd8niBdXx3ocDMd1771oSzJDvqXiC',\n",
       "  'pubkey': '02f4468eae06b195a4f83cc63d680d015d512af60288977e0283fd4299bfcde24b',\n",
       "  'pubkeyhash': 'bf1ba366dd65a4824c22f497bbff1fae89007841',\n",
       "  'xprv': 'tprv8kmimjp9GYq9FvSyaAKU2MY38GBpiMHEsjgMtnLaMhyZQPzAiEM6ZTC8z9vdTsJVRQDcoCvLeWEHiPWWLpiGMjoYcffLhXJXNbJawYjKTof',\n",
       "  'xpub': 'tpubDHTkv9rPQvWp9PUmToz4RmC9hHhksgU9T3H9BJNsmymxEtEwLdAgjwp1AHtm7kbkbHvsC3zA3cjHi6DAFtGCvFMgY961mo7mg5ABBu21126'},\n",
       " {'address': 'n2QTqdWK96XyJ7o8LXqoCjNbmtrFNFbNb6',\n",
       "  'index': 2,\n",
       "  'path': \"m/44'/1'/0'/0/2\",\n",
       "  'privkey': 'cUMUWn4yukMK41LpebaCmnbH26XCQn9EDoSK753FxSNxQC77i5TU',\n",
       "  'pubkey': '03c486d31c700f8342f6dac13fffaab4d44c492637042659ae2922846c89077101',\n",
       "  'pubkeyhash': 'e5206464e15c29f28f54678782a909be5954f6cc',\n",
       "  'xprv': 'tprv8kmimjp9GYq9JExZDMjKjYhzHGQwQHVmMh2cRP5BLMAgCbw7fNgDssZJCujBDau2t2PEzddu8QApnrgnhzktN4LT8BXEM7HDSrxMHM6XasY',\n",
       "  'xpub': 'tpubDHTkv9rPQvWpBhzM71Pv8xN6rHvsZcgfvzdPhu7Ukcy536BtHmVp4NBAP4aP5Laycoz7Shaprf1xgAyBrZdGuoDWUFcrPc3UuiqRTBcQnxt'}]"
      ]
     },
     "execution_count": 6,
     "metadata": {},
     "output_type": "execute_result"
    }
   ],
   "source": [
    "# Create a function called `derive_wallets`\n",
    "# Derive 'btc-test' wallet keys\n",
    "# '--coin' flag does not accept the BTCTEST constant when passed in the function by itself\n",
    "def derive_btc(command, stdout=subprocess.PIPE, shell=True):\n",
    "    command = 'php ./derive -g --mnemonic=mnemonic --coin=\"btc-test\" --numderive=3 --cols=address,index,path,privkey,pubkey,pubkeyhash,xprv,xpub --format=json'\n",
    "    p = subprocess.Popen(command, stdout=subprocess.PIPE, shell=True)\n",
    "    output, err = p.communicate()\n",
    "    p_status = p.wait()\n",
    "    return json.loads(output)\n",
    "\n",
    "derive_btc(command)"
   ]
  },
  {
   "cell_type": "markdown",
   "metadata": {},
   "source": [
    "### ETH wallet keys function"
   ]
  },
  {
   "cell_type": "code",
   "execution_count": 7,
   "metadata": {},
   "outputs": [
    {
     "data": {
      "text/plain": [
       "[{'address': '0x3De0A2fD4A90f9A160ebb2B8711192D1F0eB339D',\n",
       "  'index': 0,\n",
       "  'path': \"m/44'/60'/0'/0/0\",\n",
       "  'privkey': '0x82d63adc8be924a92ef77c6e3286c4e80eaebad63ba2b91c27801a62ba2f9410',\n",
       "  'pubkey': '02c93d99b9686cabed081f1eb262b81a435ae2816ba940e0fea550a36603d8077b',\n",
       "  'pubkeyhash': 'a90e4da9a141168d3e0ac3821015190a79df729c',\n",
       "  'xprv': 'xprvA3W3uzhjas8mpZrqS7oW9ar2SWxLGhwcPFT7S2j7VM8e9PbaYcfSJo4aDdsjd7yi9iPcKkvxg7TzmeNJniz84Y4rYgTaarwiMk66gZNwj3P',\n",
       "  'xpub': 'xpub6GVQKWEdREh533wJY9LWWinkzYnpgAfTkUNiER8j3gfd2Bvj69ygrbP44uSWSEu9BwzQ2mboHQp17puXxT3y9xnXCt256vtjkzV2caX1xeT'},\n",
       " {'address': '0xc5557310a53b90f18E926431B1896c29Df0dcc1a',\n",
       "  'index': 1,\n",
       "  'path': \"m/44'/60'/0'/0/1\",\n",
       "  'privkey': '0xf0c147a367c5732f750e0dc072540f71ec3e3a87fafee9e7516982861e9e259e',\n",
       "  'pubkey': '0299b67384c634d60ac57d9efc57a93b3a2d87b9eb63e3025652de882c269f2480',\n",
       "  'pubkeyhash': '8703eefc2cdcf91b844d7ec8090d2e89d092de58',\n",
       "  'xprv': 'xprvA3W3uzhjas8msDSBJH94x7mqj53hfhCweGzWNRqsHamAi3MrZh4cDT4VywH5UH7UboqUbVazKeEn9gLy7TgeMbtWSuyYk852kBG75GZmB4r',\n",
       "  'xpub': 'xpub6GVQKWEdREh55hWeQJg5KFiaH6tC59vo1Vv7ApFUqvJ9aqh17ENrmFNyqBeWXxBLL8hxPeeUw4A8HfovbNetZcGkNj6p1VoJiDt4UJ3L9RU'},\n",
       " {'address': '0x926841419b49910D80fCEa75d587BE3aefFf560e',\n",
       "  'index': 2,\n",
       "  'path': \"m/44'/60'/0'/0/2\",\n",
       "  'privkey': '0x356c8dd425cf9714114bf73751c13d1ad34f4012e2ac37e564b0aaee238a0d2a',\n",
       "  'pubkey': '02fb003f8b9fd2e765b5c64b7f47832bc46ff818807e7903262c03a29d2b983f6a',\n",
       "  'pubkeyhash': '53c13c213c11034e676536944ec4f2cb5fb0b3c0',\n",
       "  'xprv': 'xprvA3W3uzhjas8mvbJ4eX1qKPXK7osvsQXSezDFvPW3dEpbJZ35xaJXxBdpPcrXDrqror7a2McmYr5HbL5Xiag834qfBkvhY5YvLKe3MPxFbch',\n",
       "  'xpub': 'xpub6GVQKWEdREh595NXkYYqgXU3fqiRGsFJ2D8rimufBaMaBMNEW7cnVyxJEuPJW5HNqmbaVUfxVVhvPxd4SmjitFxyEY2YJHeF2GXfz5Q8yRb'}]"
      ]
     },
     "execution_count": 7,
     "metadata": {},
     "output_type": "execute_result"
    }
   ],
   "source": [
    "# Derive 'eth' wallet keys\n",
    "def derive_eth(command, stdout=subprocess.PIPE, shell=True):\n",
    "    command = 'php ./derive -g --mnemonic=mnemonic --coin=ETH --numderive=3 --cols=address,index,path,privkey,pubkey,pubkeyhash,xprv,xpub --format=json'\n",
    "    p = subprocess.Popen(command, stdout=subprocess.PIPE, shell=True)\n",
    "    output, err = p.communicate()\n",
    "    p_status = p.wait()\n",
    "    return json.loads(output)\n",
    "\n",
    "derive_eth(command)"
   ]
  },
  {
   "cell_type": "markdown",
   "metadata": {},
   "source": [
    "### Combined function"
   ]
  },
  {
   "cell_type": "code",
   "execution_count": 8,
   "metadata": {},
   "outputs": [],
   "source": [
    "# Derive both sets of wallet keys in one function\n",
    "def derive_wallets(coin, stdout=subprocess.PIPE, shell=True):\n",
    "    command = f'php ./derive -g --mnemonic=mnemonic --coin={coin} --numderive=3 --cols=address,index,path,privkey,pubkey,pubkeyhash,xprv,xpub --format=json'\n",
    "    p = subprocess.Popen(command, stdout=subprocess.PIPE, shell=True)\n",
    "    output, err = p.communicate()\n",
    "    p_status = p.wait()\n",
    "    return json.loads(output)"
   ]
  },
  {
   "cell_type": "code",
   "execution_count": 9,
   "metadata": {},
   "outputs": [
    {
     "data": {
      "text/plain": [
       "{'btc-test': [{'address': 'mtgb9hthmFpY1zidrYmZ24eTF87aBA147h',\n",
       "   'index': 0,\n",
       "   'path': \"m/44'/1'/0'/0/0\",\n",
       "   'privkey': 'cVAgDoahzo5Ucdv8ioxxubvmE6LfU3ZQgJ21UvY4eC1xi6WkvnXe',\n",
       "   'pubkey': '0339b281b12687c70a024ef409229b55d404533b4e9a475dc9d3883c0172913fb6',\n",
       "   'pubkeyhash': '906c250da82c2bd3edf9bcbbbb29f2188065f9d2',\n",
       "   'xprv': 'tprv8kmimjp9GYq9EvcrxozEhxzk9jGwaC73BSiy3ATqwwikM4YgH7685zQLzX7xzXAmhXxf5LZbpbqtSGX3fcNFbfVJdxuEYPrA5tDRRQgwPRm',\n",
       "   'xpub': 'tpubDHTkv9rPQvWp8PeerTeq7NeriknsjXHwkkKkKgW9NDX9BYoSuVuiGV2DAejLNv85zVm31akUTVk6Z8MyhECbWDzQ3Qir4GoRCXfBgKk8GxA'},\n",
       "  {'address': 'mxwSU31v1NtbUi6Pc5bN9BgmmAGw13JdvX',\n",
       "   'index': 1,\n",
       "   'path': \"m/44'/1'/0'/0/1\",\n",
       "   'privkey': 'cRG5vrAkkq3ZkTmT2mmqCgbxd8niBdXx3ocDMd1771oSzJDvqXiC',\n",
       "   'pubkey': '02f4468eae06b195a4f83cc63d680d015d512af60288977e0283fd4299bfcde24b',\n",
       "   'pubkeyhash': 'bf1ba366dd65a4824c22f497bbff1fae89007841',\n",
       "   'xprv': 'tprv8kmimjp9GYq9FvSyaAKU2MY38GBpiMHEsjgMtnLaMhyZQPzAiEM6ZTC8z9vdTsJVRQDcoCvLeWEHiPWWLpiGMjoYcffLhXJXNbJawYjKTof',\n",
       "   'xpub': 'tpubDHTkv9rPQvWp9PUmToz4RmC9hHhksgU9T3H9BJNsmymxEtEwLdAgjwp1AHtm7kbkbHvsC3zA3cjHi6DAFtGCvFMgY961mo7mg5ABBu21126'},\n",
       "  {'address': 'n2QTqdWK96XyJ7o8LXqoCjNbmtrFNFbNb6',\n",
       "   'index': 2,\n",
       "   'path': \"m/44'/1'/0'/0/2\",\n",
       "   'privkey': 'cUMUWn4yukMK41LpebaCmnbH26XCQn9EDoSK753FxSNxQC77i5TU',\n",
       "   'pubkey': '03c486d31c700f8342f6dac13fffaab4d44c492637042659ae2922846c89077101',\n",
       "   'pubkeyhash': 'e5206464e15c29f28f54678782a909be5954f6cc',\n",
       "   'xprv': 'tprv8kmimjp9GYq9JExZDMjKjYhzHGQwQHVmMh2cRP5BLMAgCbw7fNgDssZJCujBDau2t2PEzddu8QApnrgnhzktN4LT8BXEM7HDSrxMHM6XasY',\n",
       "   'xpub': 'tpubDHTkv9rPQvWpBhzM71Pv8xN6rHvsZcgfvzdPhu7Ukcy536BtHmVp4NBAP4aP5Laycoz7Shaprf1xgAyBrZdGuoDWUFcrPc3UuiqRTBcQnxt'}],\n",
       " 'eth': [{'address': '0x3De0A2fD4A90f9A160ebb2B8711192D1F0eB339D',\n",
       "   'index': 0,\n",
       "   'path': \"m/44'/60'/0'/0/0\",\n",
       "   'privkey': '0x82d63adc8be924a92ef77c6e3286c4e80eaebad63ba2b91c27801a62ba2f9410',\n",
       "   'pubkey': '02c93d99b9686cabed081f1eb262b81a435ae2816ba940e0fea550a36603d8077b',\n",
       "   'pubkeyhash': 'a90e4da9a141168d3e0ac3821015190a79df729c',\n",
       "   'xprv': 'xprvA3W3uzhjas8mpZrqS7oW9ar2SWxLGhwcPFT7S2j7VM8e9PbaYcfSJo4aDdsjd7yi9iPcKkvxg7TzmeNJniz84Y4rYgTaarwiMk66gZNwj3P',\n",
       "   'xpub': 'xpub6GVQKWEdREh533wJY9LWWinkzYnpgAfTkUNiER8j3gfd2Bvj69ygrbP44uSWSEu9BwzQ2mboHQp17puXxT3y9xnXCt256vtjkzV2caX1xeT'},\n",
       "  {'address': '0xc5557310a53b90f18E926431B1896c29Df0dcc1a',\n",
       "   'index': 1,\n",
       "   'path': \"m/44'/60'/0'/0/1\",\n",
       "   'privkey': '0xf0c147a367c5732f750e0dc072540f71ec3e3a87fafee9e7516982861e9e259e',\n",
       "   'pubkey': '0299b67384c634d60ac57d9efc57a93b3a2d87b9eb63e3025652de882c269f2480',\n",
       "   'pubkeyhash': '8703eefc2cdcf91b844d7ec8090d2e89d092de58',\n",
       "   'xprv': 'xprvA3W3uzhjas8msDSBJH94x7mqj53hfhCweGzWNRqsHamAi3MrZh4cDT4VywH5UH7UboqUbVazKeEn9gLy7TgeMbtWSuyYk852kBG75GZmB4r',\n",
       "   'xpub': 'xpub6GVQKWEdREh55hWeQJg5KFiaH6tC59vo1Vv7ApFUqvJ9aqh17ENrmFNyqBeWXxBLL8hxPeeUw4A8HfovbNetZcGkNj6p1VoJiDt4UJ3L9RU'},\n",
       "  {'address': '0x926841419b49910D80fCEa75d587BE3aefFf560e',\n",
       "   'index': 2,\n",
       "   'path': \"m/44'/60'/0'/0/2\",\n",
       "   'privkey': '0x356c8dd425cf9714114bf73751c13d1ad34f4012e2ac37e564b0aaee238a0d2a',\n",
       "   'pubkey': '02fb003f8b9fd2e765b5c64b7f47832bc46ff818807e7903262c03a29d2b983f6a',\n",
       "   'pubkeyhash': '53c13c213c11034e676536944ec4f2cb5fb0b3c0',\n",
       "   'xprv': 'xprvA3W3uzhjas8mvbJ4eX1qKPXK7osvsQXSezDFvPW3dEpbJZ35xaJXxBdpPcrXDrqror7a2McmYr5HbL5Xiag834qfBkvhY5YvLKe3MPxFbch',\n",
       "   'xpub': 'xpub6GVQKWEdREh595NXkYYqgXU3fqiRGsFJ2D8rimufBaMaBMNEW7cnVyxJEuPJW5HNqmbaVUfxVVhvPxd4SmjitFxyEY2YJHeF2GXfz5Q8yRb'}]}"
      ]
     },
     "execution_count": 9,
     "metadata": {},
     "output_type": "execute_result"
    }
   ],
   "source": [
    "# Create a dictionary object called coins to store the output from `derive_wallets`.\n",
    "coins = {\n",
    "    'btc-test': derive_wallets(BTCTEST),\n",
    "    'eth': derive_wallets(ETH),\n",
    "    }\n",
    "\n",
    "coins"
   ]
  },
  {
   "cell_type": "code",
   "execution_count": 10,
   "metadata": {},
   "outputs": [
    {
     "name": "stdout",
     "output_type": "stream",
     "text": [
      "BTCTEST private key: 0339b281b12687c70a024ef409229b55d404533b4e9a475dc9d3883c0172913fb6\n",
      "ETH private key: 02c93d99b9686cabed081f1eb262b81a435ae2816ba940e0fea550a36603d8077b\n"
     ]
    }
   ],
   "source": [
    "# Check access to `coins` dict\n",
    "print(f\"BTCTEST private key: {coins[BTCTEST][0]['pubkey']}\")\n",
    "print(f\"ETH private key: {coins[ETH][0]['pubkey']}\")"
   ]
  },
  {
   "cell_type": "markdown",
   "metadata": {},
   "source": [
    "---"
   ]
  },
  {
   "cell_type": "markdown",
   "metadata": {},
   "source": [
    "# *Work in Progress*"
   ]
  },
  {
   "cell_type": "markdown",
   "metadata": {},
   "source": [
    "## Linking Transaction Signing Libraries"
   ]
  },
  {
   "cell_type": "code",
   "execution_count": 11,
   "metadata": {},
   "outputs": [],
   "source": [
    "# w3 = Web3(Web3.HTTPProvider(\"http://127.0.0.1:8545\"))\n",
    "# w3.middleware_onion.inject(geth_poa_middleware, layer=0)\n",
    "\n",
    "# account_one = Account.from_key(eth1_private)\n",
    "# account_two = Account.from_key(eth2_private)\n",
    "\n",
    "# print(account_one.address)\n",
    "# print(account_two.address)"
   ]
  },
  {
   "cell_type": "markdown",
   "metadata": {},
   "source": [
    "## `priv_key_to_account` function"
   ]
  },
  {
   "cell_type": "code",
   "execution_count": 12,
   "metadata": {},
   "outputs": [],
   "source": [
    "# Create a function called `priv_key_to_account` that converts privkey strings to account objects.\n",
    "def priv_key_to_account(coin):#, priv_key):\n",
    "    if coin == ETH:\n",
    "        priv_key = Account.privateKeyToAccount(coins[coin][0]['privkey'])\n",
    "        return priv_key\n",
    "    elif coin == BTCTEST:\n",
    "        priv_key = PrivateKeyTestnet(coins[coin][0]['privkey'])\n",
    "        return priv_key"
   ]
  },
  {
   "cell_type": "code",
   "execution_count": 13,
   "metadata": {},
   "outputs": [
    {
     "name": "stdout",
     "output_type": "stream",
     "text": [
      "<eth_account.signers.local.LocalAccount object at 0x000002C14771BF48> || <class 'eth_account.signers.local.LocalAccount'>\n",
      "\n",
      "<PrivateKeyTestnet: mtgb9hthmFpY1zidrYmZ24eTF87aBA147h> || <class 'bit.wallet.PrivateKeyTestnet'>\n",
      "<PrivateKeyTestnet: mtgb9hthmFpY1zidrYmZ24eTF87aBA147h> || <class 'bit.wallet.PrivateKeyTestnet'>\n",
      "\n",
      "<eth_account.signers.local.LocalAccount object at 0x000002C149326108>\n",
      "<PrivateKeyTestnet: mtgb9hthmFpY1zidrYmZ24eTF87aBA147h>\n"
     ]
    }
   ],
   "source": [
    "# Tests for syntax and object types\n",
    "eprivkey = Account.privateKeyToAccount(coins[ETH][0]['privkey'])\n",
    "print(f'{eprivkey} || {type(eprivkey)}\\n')\n",
    "\n",
    "bprivkey = coins[BTCTEST][0]['privkey']\n",
    "bwifkey = wif_to_key(bprivkey)\n",
    "print(f'{bwifkey} || {type(bwifkey)}')\n",
    "print(f'{PrivateKeyTestnet(bprivkey)} || {type(bwifkey)}\\n')\n",
    "\n",
    "print(priv_key_to_account(ETH))\n",
    "print(priv_key_to_account(BTCTEST))"
   ]
  },
  {
   "cell_type": "markdown",
   "metadata": {},
   "source": [
    "## `create_tx` function"
   ]
  },
  {
   "cell_type": "code",
   "execution_count": 14,
   "metadata": {},
   "outputs": [],
   "source": [
    "# Create a function called `create_tx` that creates an unsigned transaction appropriate metadata.\n",
    "def create_eth_tx(account, recipient, amount):\n",
    "    gasEstimate = w3.eth.estimateGas(\n",
    "        {'from': account.address, 'to': recipient, 'value': amount}\n",
    "    )\n",
    "    return {\n",
    "        'from': account.address,\n",
    "        'to': recipient,\n",
    "        'value': amount,\n",
    "        'gasPrice': w3.eth.gasPrice,\n",
    "        'gas': gasEstimate,\n",
    "        'nonce': w3.eth.getTransactionCount(account.address),\n",
    "    }"
   ]
  },
  {
   "cell_type": "markdown",
   "metadata": {},
   "source": [
    "## `send_tx` function"
   ]
  },
  {
   "cell_type": "code",
   "execution_count": 15,
   "metadata": {},
   "outputs": [],
   "source": [
    "# Create a function called `send_tx` that calls `create_tx`, signs and sends the transaction.\n",
    "def send_tx(account, recipient, amount):\n",
    "    tx = create_tx(account, recipient, amount)\n",
    "    signed_tx = account.sign_transaction(tx)\n",
    "    result = w3.eth.sendRawTransaction(signed_tx.rawTransaction)\n",
    "    print(result.hex())\n",
    "    return result.hex()"
   ]
  },
  {
   "cell_type": "markdown",
   "metadata": {},
   "source": [
    "---\n",
    "\n",
    "## BTC scripts"
   ]
  },
  {
   "cell_type": "code",
   "execution_count": 16,
   "metadata": {},
   "outputs": [],
   "source": [
    "# key = wif_to_key(btc1_private)\n",
    "\n",
    "# key.get_balance('btc')\n",
    "# key.balance_as('usd')\n",
    "# key.get_transactions()\n",
    "# key.get_unspents()\n",
    "\n",
    "# addresses = [\n",
    "#     btc1_address,\n",
    "#     btc2_address\n",
    "# ]\n",
    "\n",
    "# outputs = []\n",
    "\n",
    "# for address in addresses:\n",
    "#     outputs.append((address, 0.0001, BTC))\n",
    "    \n",
    "#     print(key.send(outputs))"
   ]
  },
  {
   "cell_type": "markdown",
   "metadata": {},
   "source": [
    "## Send some transactions"
   ]
  },
  {
   "cell_type": "code",
   "execution_count": null,
   "metadata": {},
   "outputs": [],
   "source": []
  }
 ],
 "metadata": {
  "interpreter": {
   "hash": "1ccecfed2e5793b667722ac5d68a3e3cac4f343f0dab75834378bb56b2b70553"
  },
  "kernelspec": {
   "display_name": "Python 3.7.11 64-bit ('ethereum': conda)",
   "name": "python3"
  },
  "language_info": {
   "codemirror_mode": {
    "name": "ipython",
    "version": 3
   },
   "file_extension": ".py",
   "mimetype": "text/x-python",
   "name": "python",
   "nbconvert_exporter": "python",
   "pygments_lexer": "ipython3",
   "version": "3.7.11"
  },
  "orig_nbformat": 4
 },
 "nbformat": 4,
 "nbformat_minor": 2
}
